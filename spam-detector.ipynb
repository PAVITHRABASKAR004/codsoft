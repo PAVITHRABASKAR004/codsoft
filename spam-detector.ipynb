{
 "cells": [
  {
   "cell_type": "code",
   "execution_count": 1,
   "id": "9a5fcdf7",
   "metadata": {
    "_cell_guid": "b1076dfc-b9ad-4769-8c92-a6c4dae69d19",
    "_uuid": "8f2839f25d086af736a60e9eeb907d3b93b6e0e5",
    "execution": {
     "iopub.execute_input": "2023-10-19T16:16:02.520646Z",
     "iopub.status.busy": "2023-10-19T16:16:02.520270Z",
     "iopub.status.idle": "2023-10-19T16:16:03.387653Z",
     "shell.execute_reply": "2023-10-19T16:16:03.386265Z"
    },
    "papermill": {
     "duration": 0.876997,
     "end_time": "2023-10-19T16:16:03.390213",
     "exception": false,
     "start_time": "2023-10-19T16:16:02.513216",
     "status": "completed"
    },
    "tags": []
   },
   "outputs": [
    {
     "name": "stdout",
     "output_type": "stream",
     "text": [
      "/kaggle/input/sms-spam-collection-dataset/spam.csv\n"
     ]
    }
   ],
   "source": [
    "# This Python 3 environment comes with many helpful analytics libraries installed\n",
    "# It is defined by the kaggle/python Docker image: https://github.com/kaggle/docker-python\n",
    "# For example, here's several helpful packages to load\n",
    "\n",
    "import numpy as np # linear algebra\n",
    "import pandas as pd # data processing, CSV file I/O (e.g. pd.read_csv)\n",
    "\n",
    "# Input data files are available in the read-only \"../input/\" directory\n",
    "# For example, running this (by clicking run or pressing Shift+Enter) will list all files under the input directory\n",
    "\n",
    "import os\n",
    "for dirname, _, filenames in os.walk('/kaggle/input'):\n",
    "    for filename in filenames:\n",
    "        print(os.path.join(dirname, filename))\n",
    "\n",
    "# You can write up to 20GB to the current directory (/kaggle/working/) that gets preserved as output when you create a version using \"Save & Run All\" \n",
    "# You can also write temporary files to /kaggle/temp/, but they won't be saved outside of the current session"
   ]
  },
  {
   "cell_type": "code",
   "execution_count": 2,
   "id": "fd78fed6",
   "metadata": {
    "execution": {
     "iopub.execute_input": "2023-10-19T16:16:03.402691Z",
     "iopub.status.busy": "2023-10-19T16:16:03.401893Z",
     "iopub.status.idle": "2023-10-19T16:16:03.406734Z",
     "shell.execute_reply": "2023-10-19T16:16:03.405516Z"
    },
    "papermill": {
     "duration": 0.013308,
     "end_time": "2023-10-19T16:16:03.408886",
     "exception": false,
     "start_time": "2023-10-19T16:16:03.395578",
     "status": "completed"
    },
    "tags": []
   },
   "outputs": [],
   "source": [
    "import numpy as np\n",
    "import pandas as pd"
   ]
  },
  {
   "cell_type": "code",
   "execution_count": 3,
   "id": "eb796817",
   "metadata": {
    "execution": {
     "iopub.execute_input": "2023-10-19T16:16:03.420544Z",
     "iopub.status.busy": "2023-10-19T16:16:03.420108Z",
     "iopub.status.idle": "2023-10-19T16:16:03.459652Z",
     "shell.execute_reply": "2023-10-19T16:16:03.458494Z"
    },
    "papermill": {
     "duration": 0.048386,
     "end_time": "2023-10-19T16:16:03.462421",
     "exception": false,
     "start_time": "2023-10-19T16:16:03.414035",
     "status": "completed"
    },
    "tags": []
   },
   "outputs": [],
   "source": [
    "filepath = '/kaggle/input/sms-spam-collection-dataset/spam.csv'\n",
    "df= pd.read_csv(filepath , encoding = 'ISO-8859-1')"
   ]
  },
  {
   "cell_type": "code",
   "execution_count": 4,
   "id": "5d524b98",
   "metadata": {
    "execution": {
     "iopub.execute_input": "2023-10-19T16:16:03.474409Z",
     "iopub.status.busy": "2023-10-19T16:16:03.473412Z",
     "iopub.status.idle": "2023-10-19T16:16:03.498392Z",
     "shell.execute_reply": "2023-10-19T16:16:03.497166Z"
    },
    "papermill": {
     "duration": 0.033067,
     "end_time": "2023-10-19T16:16:03.500425",
     "exception": false,
     "start_time": "2023-10-19T16:16:03.467358",
     "status": "completed"
    },
    "tags": []
   },
   "outputs": [
    {
     "data": {
      "text/html": [
       "<div>\n",
       "<style scoped>\n",
       "    .dataframe tbody tr th:only-of-type {\n",
       "        vertical-align: middle;\n",
       "    }\n",
       "\n",
       "    .dataframe tbody tr th {\n",
       "        vertical-align: top;\n",
       "    }\n",
       "\n",
       "    .dataframe thead th {\n",
       "        text-align: right;\n",
       "    }\n",
       "</style>\n",
       "<table border=\"1\" class=\"dataframe\">\n",
       "  <thead>\n",
       "    <tr style=\"text-align: right;\">\n",
       "      <th></th>\n",
       "      <th>v1</th>\n",
       "      <th>v2</th>\n",
       "      <th>Unnamed: 2</th>\n",
       "      <th>Unnamed: 3</th>\n",
       "      <th>Unnamed: 4</th>\n",
       "    </tr>\n",
       "  </thead>\n",
       "  <tbody>\n",
       "    <tr>\n",
       "      <th>0</th>\n",
       "      <td>ham</td>\n",
       "      <td>Go until jurong point, crazy.. Available only ...</td>\n",
       "      <td>NaN</td>\n",
       "      <td>NaN</td>\n",
       "      <td>NaN</td>\n",
       "    </tr>\n",
       "    <tr>\n",
       "      <th>1</th>\n",
       "      <td>ham</td>\n",
       "      <td>Ok lar... Joking wif u oni...</td>\n",
       "      <td>NaN</td>\n",
       "      <td>NaN</td>\n",
       "      <td>NaN</td>\n",
       "    </tr>\n",
       "    <tr>\n",
       "      <th>2</th>\n",
       "      <td>spam</td>\n",
       "      <td>Free entry in 2 a wkly comp to win FA Cup fina...</td>\n",
       "      <td>NaN</td>\n",
       "      <td>NaN</td>\n",
       "      <td>NaN</td>\n",
       "    </tr>\n",
       "    <tr>\n",
       "      <th>3</th>\n",
       "      <td>ham</td>\n",
       "      <td>U dun say so early hor... U c already then say...</td>\n",
       "      <td>NaN</td>\n",
       "      <td>NaN</td>\n",
       "      <td>NaN</td>\n",
       "    </tr>\n",
       "    <tr>\n",
       "      <th>4</th>\n",
       "      <td>ham</td>\n",
       "      <td>Nah I don't think he goes to usf, he lives aro...</td>\n",
       "      <td>NaN</td>\n",
       "      <td>NaN</td>\n",
       "      <td>NaN</td>\n",
       "    </tr>\n",
       "  </tbody>\n",
       "</table>\n",
       "</div>"
      ],
      "text/plain": [
       "     v1                                                 v2 Unnamed: 2  \\\n",
       "0   ham  Go until jurong point, crazy.. Available only ...        NaN   \n",
       "1   ham                      Ok lar... Joking wif u oni...        NaN   \n",
       "2  spam  Free entry in 2 a wkly comp to win FA Cup fina...        NaN   \n",
       "3   ham  U dun say so early hor... U c already then say...        NaN   \n",
       "4   ham  Nah I don't think he goes to usf, he lives aro...        NaN   \n",
       "\n",
       "  Unnamed: 3 Unnamed: 4  \n",
       "0        NaN        NaN  \n",
       "1        NaN        NaN  \n",
       "2        NaN        NaN  \n",
       "3        NaN        NaN  \n",
       "4        NaN        NaN  "
      ]
     },
     "execution_count": 4,
     "metadata": {},
     "output_type": "execute_result"
    }
   ],
   "source": [
    "df.head()"
   ]
  },
  {
   "cell_type": "code",
   "execution_count": 5,
   "id": "cff683f5",
   "metadata": {
    "execution": {
     "iopub.execute_input": "2023-10-19T16:16:03.513166Z",
     "iopub.status.busy": "2023-10-19T16:16:03.512763Z",
     "iopub.status.idle": "2023-10-19T16:16:03.520184Z",
     "shell.execute_reply": "2023-10-19T16:16:03.519089Z"
    },
    "papermill": {
     "duration": 0.016783,
     "end_time": "2023-10-19T16:16:03.522401",
     "exception": false,
     "start_time": "2023-10-19T16:16:03.505618",
     "status": "completed"
    },
    "tags": []
   },
   "outputs": [
    {
     "data": {
      "text/plain": [
       "(5572, 5)"
      ]
     },
     "execution_count": 5,
     "metadata": {},
     "output_type": "execute_result"
    }
   ],
   "source": [
    "df.shape"
   ]
  },
  {
   "cell_type": "code",
   "execution_count": 6,
   "id": "9550036f",
   "metadata": {
    "execution": {
     "iopub.execute_input": "2023-10-19T16:16:03.534505Z",
     "iopub.status.busy": "2023-10-19T16:16:03.534122Z",
     "iopub.status.idle": "2023-10-19T16:16:03.562726Z",
     "shell.execute_reply": "2023-10-19T16:16:03.561494Z"
    },
    "papermill": {
     "duration": 0.037729,
     "end_time": "2023-10-19T16:16:03.565453",
     "exception": false,
     "start_time": "2023-10-19T16:16:03.527724",
     "status": "completed"
    },
    "tags": []
   },
   "outputs": [
    {
     "name": "stdout",
     "output_type": "stream",
     "text": [
      "<class 'pandas.core.frame.DataFrame'>\n",
      "RangeIndex: 5572 entries, 0 to 5571\n",
      "Data columns (total 5 columns):\n",
      " #   Column      Non-Null Count  Dtype \n",
      "---  ------      --------------  ----- \n",
      " 0   v1          5572 non-null   object\n",
      " 1   v2          5572 non-null   object\n",
      " 2   Unnamed: 2  50 non-null     object\n",
      " 3   Unnamed: 3  12 non-null     object\n",
      " 4   Unnamed: 4  6 non-null      object\n",
      "dtypes: object(5)\n",
      "memory usage: 217.8+ KB\n"
     ]
    }
   ],
   "source": [
    "df.info()"
   ]
  },
  {
   "cell_type": "code",
   "execution_count": 7,
   "id": "c4041eb0",
   "metadata": {
    "execution": {
     "iopub.execute_input": "2023-10-19T16:16:03.577575Z",
     "iopub.status.busy": "2023-10-19T16:16:03.577237Z",
     "iopub.status.idle": "2023-10-19T16:16:03.585982Z",
     "shell.execute_reply": "2023-10-19T16:16:03.584834Z"
    },
    "papermill": {
     "duration": 0.017603,
     "end_time": "2023-10-19T16:16:03.588293",
     "exception": false,
     "start_time": "2023-10-19T16:16:03.570690",
     "status": "completed"
    },
    "tags": []
   },
   "outputs": [],
   "source": [
    "df.drop(columns=['Unnamed: 2','Unnamed: 3','Unnamed: 4'],inplace=True)"
   ]
  },
  {
   "cell_type": "code",
   "execution_count": 8,
   "id": "d3f74410",
   "metadata": {
    "execution": {
     "iopub.execute_input": "2023-10-19T16:16:03.600432Z",
     "iopub.status.busy": "2023-10-19T16:16:03.600084Z",
     "iopub.status.idle": "2023-10-19T16:16:03.609389Z",
     "shell.execute_reply": "2023-10-19T16:16:03.608139Z"
    },
    "papermill": {
     "duration": 0.018261,
     "end_time": "2023-10-19T16:16:03.611695",
     "exception": false,
     "start_time": "2023-10-19T16:16:03.593434",
     "status": "completed"
    },
    "tags": []
   },
   "outputs": [
    {
     "data": {
      "text/html": [
       "<div>\n",
       "<style scoped>\n",
       "    .dataframe tbody tr th:only-of-type {\n",
       "        vertical-align: middle;\n",
       "    }\n",
       "\n",
       "    .dataframe tbody tr th {\n",
       "        vertical-align: top;\n",
       "    }\n",
       "\n",
       "    .dataframe thead th {\n",
       "        text-align: right;\n",
       "    }\n",
       "</style>\n",
       "<table border=\"1\" class=\"dataframe\">\n",
       "  <thead>\n",
       "    <tr style=\"text-align: right;\">\n",
       "      <th></th>\n",
       "      <th>v1</th>\n",
       "      <th>v2</th>\n",
       "    </tr>\n",
       "  </thead>\n",
       "  <tbody>\n",
       "    <tr>\n",
       "      <th>0</th>\n",
       "      <td>ham</td>\n",
       "      <td>Go until jurong point, crazy.. Available only ...</td>\n",
       "    </tr>\n",
       "    <tr>\n",
       "      <th>1</th>\n",
       "      <td>ham</td>\n",
       "      <td>Ok lar... Joking wif u oni...</td>\n",
       "    </tr>\n",
       "    <tr>\n",
       "      <th>2</th>\n",
       "      <td>spam</td>\n",
       "      <td>Free entry in 2 a wkly comp to win FA Cup fina...</td>\n",
       "    </tr>\n",
       "    <tr>\n",
       "      <th>3</th>\n",
       "      <td>ham</td>\n",
       "      <td>U dun say so early hor... U c already then say...</td>\n",
       "    </tr>\n",
       "    <tr>\n",
       "      <th>4</th>\n",
       "      <td>ham</td>\n",
       "      <td>Nah I don't think he goes to usf, he lives aro...</td>\n",
       "    </tr>\n",
       "  </tbody>\n",
       "</table>\n",
       "</div>"
      ],
      "text/plain": [
       "     v1                                                 v2\n",
       "0   ham  Go until jurong point, crazy.. Available only ...\n",
       "1   ham                      Ok lar... Joking wif u oni...\n",
       "2  spam  Free entry in 2 a wkly comp to win FA Cup fina...\n",
       "3   ham  U dun say so early hor... U c already then say...\n",
       "4   ham  Nah I don't think he goes to usf, he lives aro..."
      ]
     },
     "execution_count": 8,
     "metadata": {},
     "output_type": "execute_result"
    }
   ],
   "source": [
    "df.head()"
   ]
  },
  {
   "cell_type": "code",
   "execution_count": 9,
   "id": "874b7f61",
   "metadata": {
    "execution": {
     "iopub.execute_input": "2023-10-19T16:16:03.624942Z",
     "iopub.status.busy": "2023-10-19T16:16:03.624530Z",
     "iopub.status.idle": "2023-10-19T16:16:03.635172Z",
     "shell.execute_reply": "2023-10-19T16:16:03.634251Z"
    },
    "papermill": {
     "duration": 0.019464,
     "end_time": "2023-10-19T16:16:03.636936",
     "exception": false,
     "start_time": "2023-10-19T16:16:03.617472",
     "status": "completed"
    },
    "tags": []
   },
   "outputs": [
    {
     "data": {
      "text/html": [
       "<div>\n",
       "<style scoped>\n",
       "    .dataframe tbody tr th:only-of-type {\n",
       "        vertical-align: middle;\n",
       "    }\n",
       "\n",
       "    .dataframe tbody tr th {\n",
       "        vertical-align: top;\n",
       "    }\n",
       "\n",
       "    .dataframe thead th {\n",
       "        text-align: right;\n",
       "    }\n",
       "</style>\n",
       "<table border=\"1\" class=\"dataframe\">\n",
       "  <thead>\n",
       "    <tr style=\"text-align: right;\">\n",
       "      <th></th>\n",
       "      <th>target</th>\n",
       "      <th>text</th>\n",
       "    </tr>\n",
       "  </thead>\n",
       "  <tbody>\n",
       "    <tr>\n",
       "      <th>4815</th>\n",
       "      <td>ham</td>\n",
       "      <td>Anything is valuable in only 2 situations: Fir...</td>\n",
       "    </tr>\n",
       "    <tr>\n",
       "      <th>1898</th>\n",
       "      <td>ham</td>\n",
       "      <td>Wat would u like 4 ur birthday?</td>\n",
       "    </tr>\n",
       "    <tr>\n",
       "      <th>3237</th>\n",
       "      <td>ham</td>\n",
       "      <td>Good. No swimsuit allowed :)</td>\n",
       "    </tr>\n",
       "    <tr>\n",
       "      <th>5091</th>\n",
       "      <td>ham</td>\n",
       "      <td>No no. I will check all rooms befor activities</td>\n",
       "    </tr>\n",
       "    <tr>\n",
       "      <th>5331</th>\n",
       "      <td>ham</td>\n",
       "      <td>X course it 2yrs. Just so her messages on mess...</td>\n",
       "    </tr>\n",
       "  </tbody>\n",
       "</table>\n",
       "</div>"
      ],
      "text/plain": [
       "     target                                               text\n",
       "4815    ham  Anything is valuable in only 2 situations: Fir...\n",
       "1898    ham                    Wat would u like 4 ur birthday?\n",
       "3237    ham                       Good. No swimsuit allowed :)\n",
       "5091    ham     No no. I will check all rooms befor activities\n",
       "5331    ham  X course it 2yrs. Just so her messages on mess..."
      ]
     },
     "execution_count": 9,
     "metadata": {},
     "output_type": "execute_result"
    }
   ],
   "source": [
    "df.rename(columns={'v1':'target','v2':'text'},inplace=True)\n",
    "df.sample(5)"
   ]
  },
  {
   "cell_type": "code",
   "execution_count": 10,
   "id": "927e46d6",
   "metadata": {
    "execution": {
     "iopub.execute_input": "2023-10-19T16:16:03.649917Z",
     "iopub.status.busy": "2023-10-19T16:16:03.649563Z",
     "iopub.status.idle": "2023-10-19T16:16:04.913863Z",
     "shell.execute_reply": "2023-10-19T16:16:04.912660Z"
    },
    "papermill": {
     "duration": 1.273879,
     "end_time": "2023-10-19T16:16:04.916524",
     "exception": false,
     "start_time": "2023-10-19T16:16:03.642645",
     "status": "completed"
    },
    "tags": []
   },
   "outputs": [],
   "source": [
    "from sklearn.preprocessing import LabelEncoder\n",
    "encoder=LabelEncoder()"
   ]
  },
  {
   "cell_type": "code",
   "execution_count": 11,
   "id": "2fdd1ab2",
   "metadata": {
    "execution": {
     "iopub.execute_input": "2023-10-19T16:16:04.930720Z",
     "iopub.status.busy": "2023-10-19T16:16:04.928698Z",
     "iopub.status.idle": "2023-10-19T16:16:04.938772Z",
     "shell.execute_reply": "2023-10-19T16:16:04.937517Z"
    },
    "papermill": {
     "duration": 0.018932,
     "end_time": "2023-10-19T16:16:04.940952",
     "exception": false,
     "start_time": "2023-10-19T16:16:04.922020",
     "status": "completed"
    },
    "tags": []
   },
   "outputs": [
    {
     "data": {
      "text/plain": [
       "array([0, 0, 1, ..., 0, 0, 0])"
      ]
     },
     "execution_count": 11,
     "metadata": {},
     "output_type": "execute_result"
    }
   ],
   "source": [
    "encoder.fit_transform(df['target'])"
   ]
  },
  {
   "cell_type": "code",
   "execution_count": 12,
   "id": "6cccf6e8",
   "metadata": {
    "execution": {
     "iopub.execute_input": "2023-10-19T16:16:04.954778Z",
     "iopub.status.busy": "2023-10-19T16:16:04.954397Z",
     "iopub.status.idle": "2023-10-19T16:16:04.962560Z",
     "shell.execute_reply": "2023-10-19T16:16:04.961547Z"
    },
    "papermill": {
     "duration": 0.017296,
     "end_time": "2023-10-19T16:16:04.964621",
     "exception": false,
     "start_time": "2023-10-19T16:16:04.947325",
     "status": "completed"
    },
    "tags": []
   },
   "outputs": [
    {
     "data": {
      "text/plain": [
       "target    0\n",
       "text      0\n",
       "dtype: int64"
      ]
     },
     "execution_count": 12,
     "metadata": {},
     "output_type": "execute_result"
    }
   ],
   "source": [
    "df.isnull().sum()"
   ]
  },
  {
   "cell_type": "code",
   "execution_count": 13,
   "id": "4fb50d34",
   "metadata": {
    "execution": {
     "iopub.execute_input": "2023-10-19T16:16:04.978154Z",
     "iopub.status.busy": "2023-10-19T16:16:04.977049Z",
     "iopub.status.idle": "2023-10-19T16:16:04.987890Z",
     "shell.execute_reply": "2023-10-19T16:16:04.987141Z"
    },
    "papermill": {
     "duration": 0.019369,
     "end_time": "2023-10-19T16:16:04.989661",
     "exception": false,
     "start_time": "2023-10-19T16:16:04.970292",
     "status": "completed"
    },
    "tags": []
   },
   "outputs": [
    {
     "data": {
      "text/plain": [
       "403"
      ]
     },
     "execution_count": 13,
     "metadata": {},
     "output_type": "execute_result"
    }
   ],
   "source": [
    "df.duplicated().sum()"
   ]
  },
  {
   "cell_type": "code",
   "execution_count": 14,
   "id": "dfc78302",
   "metadata": {
    "execution": {
     "iopub.execute_input": "2023-10-19T16:16:05.003188Z",
     "iopub.status.busy": "2023-10-19T16:16:05.002515Z",
     "iopub.status.idle": "2023-10-19T16:16:05.010520Z",
     "shell.execute_reply": "2023-10-19T16:16:05.009377Z"
    },
    "papermill": {
     "duration": 0.017161,
     "end_time": "2023-10-19T16:16:05.012670",
     "exception": false,
     "start_time": "2023-10-19T16:16:04.995509",
     "status": "completed"
    },
    "tags": []
   },
   "outputs": [],
   "source": [
    "df=df.drop_duplicates(keep='first')"
   ]
  },
  {
   "cell_type": "code",
   "execution_count": 15,
   "id": "10b01068",
   "metadata": {
    "execution": {
     "iopub.execute_input": "2023-10-19T16:16:05.025883Z",
     "iopub.status.busy": "2023-10-19T16:16:05.025489Z",
     "iopub.status.idle": "2023-10-19T16:16:05.035179Z",
     "shell.execute_reply": "2023-10-19T16:16:05.034233Z"
    },
    "papermill": {
     "duration": 0.018862,
     "end_time": "2023-10-19T16:16:05.037261",
     "exception": false,
     "start_time": "2023-10-19T16:16:05.018399",
     "status": "completed"
    },
    "tags": []
   },
   "outputs": [
    {
     "data": {
      "text/plain": [
       "0"
      ]
     },
     "execution_count": 15,
     "metadata": {},
     "output_type": "execute_result"
    }
   ],
   "source": [
    "df.duplicated().sum()"
   ]
  },
  {
   "cell_type": "code",
   "execution_count": 16,
   "id": "32b77120",
   "metadata": {
    "execution": {
     "iopub.execute_input": "2023-10-19T16:16:05.050506Z",
     "iopub.status.busy": "2023-10-19T16:16:05.050136Z",
     "iopub.status.idle": "2023-10-19T16:16:05.056900Z",
     "shell.execute_reply": "2023-10-19T16:16:05.055693Z"
    },
    "papermill": {
     "duration": 0.01563,
     "end_time": "2023-10-19T16:16:05.058778",
     "exception": false,
     "start_time": "2023-10-19T16:16:05.043148",
     "status": "completed"
    },
    "tags": []
   },
   "outputs": [
    {
     "data": {
      "text/plain": [
       "(5169, 2)"
      ]
     },
     "execution_count": 16,
     "metadata": {},
     "output_type": "execute_result"
    }
   ],
   "source": [
    "df.shape"
   ]
  },
  {
   "cell_type": "code",
   "execution_count": 17,
   "id": "416d1d8b",
   "metadata": {
    "execution": {
     "iopub.execute_input": "2023-10-19T16:16:05.072642Z",
     "iopub.status.busy": "2023-10-19T16:16:05.071847Z",
     "iopub.status.idle": "2023-10-19T16:16:05.081818Z",
     "shell.execute_reply": "2023-10-19T16:16:05.080969Z"
    },
    "papermill": {
     "duration": 0.019347,
     "end_time": "2023-10-19T16:16:05.084135",
     "exception": false,
     "start_time": "2023-10-19T16:16:05.064788",
     "status": "completed"
    },
    "tags": []
   },
   "outputs": [
    {
     "data": {
      "text/plain": [
       "target\n",
       "ham     4516\n",
       "spam     653\n",
       "Name: count, dtype: int64"
      ]
     },
     "execution_count": 17,
     "metadata": {},
     "output_type": "execute_result"
    }
   ],
   "source": [
    "df['target'].value_counts()"
   ]
  },
  {
   "cell_type": "code",
   "execution_count": 18,
   "id": "0dd1ba87",
   "metadata": {
    "execution": {
     "iopub.execute_input": "2023-10-19T16:16:05.100895Z",
     "iopub.status.busy": "2023-10-19T16:16:05.099854Z",
     "iopub.status.idle": "2023-10-19T16:16:05.288975Z",
     "shell.execute_reply": "2023-10-19T16:16:05.286722Z"
    },
    "papermill": {
     "duration": 0.202543,
     "end_time": "2023-10-19T16:16:05.294117",
     "exception": false,
     "start_time": "2023-10-19T16:16:05.091574",
     "status": "completed"
    },
    "tags": []
   },
   "outputs": [
    {
     "data": {
      "text/plain": [
       "([<matplotlib.patches.Wedge at 0x7ca4c3da7d60>,\n",
       "  <matplotlib.patches.Wedge at 0x7ca4c3da7c70>],\n",
       " [Text(-1.0144997251399075, 0.42519443516002464, 'ham'),\n",
       "  Text(1.014499764949479, -0.4251943401757036, 'spam')],\n",
       " [Text(-0.5533634864399495, 0.23192423736001339, '87.37'),\n",
       "  Text(0.5533635081542612, -0.23192418555038377, '12.63')])"
      ]
     },
     "execution_count": 18,
     "metadata": {},
     "output_type": "execute_result"
    },
    {
     "data": {
      "image/png": "[encoded data removed]",
      "text/plain": [
       "<Figure size 640x480 with 1 Axes>"
      ]
     },
     "metadata": {},
     "output_type": "display_data"
    }
   ],
   "source": [
    "import matplotlib.pyplot as plt\n",
    "plt.pie(df['target'].value_counts(),labels=['ham','spam'],autopct=\"%0.2f\")"
   ]
  },
  {
   "cell_type": "code",
   "execution_count": 19,
   "id": "ba2696b9",
   "metadata": {
    "execution": {
     "iopub.execute_input": "2023-10-19T16:16:05.320263Z",
     "iopub.status.busy": "2023-10-19T16:16:05.319749Z",
     "iopub.status.idle": "2023-10-19T16:16:06.194556Z",
     "shell.execute_reply": "2023-10-19T16:16:06.193273Z"
    },
    "papermill": {
     "duration": 0.886772,
     "end_time": "2023-10-19T16:16:06.197134",
     "exception": false,
     "start_time": "2023-10-19T16:16:05.310362",
     "status": "completed"
    },
    "tags": []
   },
   "outputs": [],
   "source": [
    "import nltk"
   ]
  },
  {
   "cell_type": "code",
   "execution_count": 20,
   "id": "a9bf638e",
   "metadata": {
    "execution": {
     "iopub.execute_input": "2023-10-19T16:16:06.212455Z",
     "iopub.status.busy": "2023-10-19T16:16:06.211542Z",
     "iopub.status.idle": "2023-10-19T16:16:06.219843Z",
     "shell.execute_reply": "2023-10-19T16:16:06.218738Z"
    },
    "papermill": {
     "duration": 0.018322,
     "end_time": "2023-10-19T16:16:06.222237",
     "exception": false,
     "start_time": "2023-10-19T16:16:06.203915",
     "status": "completed"
    },
    "tags": []
   },
   "outputs": [],
   "source": [
    "df['num_characters']=df['text'].apply(len)"
   ]
  },
  {
   "cell_type": "code",
   "execution_count": 21,
   "id": "bd7ccf74",
   "metadata": {
    "execution": {
     "iopub.execute_input": "2023-10-19T16:16:06.237650Z",
     "iopub.status.busy": "2023-10-19T16:16:06.237250Z",
     "iopub.status.idle": "2023-10-19T16:16:06.247566Z",
     "shell.execute_reply": "2023-10-19T16:16:06.246644Z"
    },
    "papermill": {
     "duration": 0.020376,
     "end_time": "2023-10-19T16:16:06.249592",
     "exception": false,
     "start_time": "2023-10-19T16:16:06.229216",
     "status": "completed"
    },
    "tags": []
   },
   "outputs": [
    {
     "data": {
      "text/html": [
       "<div>\n",
       "<style scoped>\n",
       "    .dataframe tbody tr th:only-of-type {\n",
       "        vertical-align: middle;\n",
       "    }\n",
       "\n",
       "    .dataframe tbody tr th {\n",
       "        vertical-align: top;\n",
       "    }\n",
       "\n",
       "    .dataframe thead th {\n",
       "        text-align: right;\n",
       "    }\n",
       "</style>\n",
       "<table border=\"1\" class=\"dataframe\">\n",
       "  <thead>\n",
       "    <tr style=\"text-align: right;\">\n",
       "      <th></th>\n",
       "      <th>target</th>\n",
       "      <th>text</th>\n",
       "      <th>num_characters</th>\n",
       "    </tr>\n",
       "  </thead>\n",
       "  <tbody>\n",
       "    <tr>\n",
       "      <th>0</th>\n",
       "      <td>ham</td>\n",
       "      <td>Go until jurong point, crazy.. Available only ...</td>\n",
       "      <td>111</td>\n",
       "    </tr>\n",
       "    <tr>\n",
       "      <th>1</th>\n",
       "      <td>ham</td>\n",
       "      <td>Ok lar... Joking wif u oni...</td>\n",
       "      <td>29</td>\n",
       "    </tr>\n",
       "    <tr>\n",
       "      <th>2</th>\n",
       "      <td>spam</td>\n",
       "      <td>Free entry in 2 a wkly comp to win FA Cup fina...</td>\n",
       "      <td>155</td>\n",
       "    </tr>\n",
       "    <tr>\n",
       "      <th>3</th>\n",
       "      <td>ham</td>\n",
       "      <td>U dun say so early hor... U c already then say...</td>\n",
       "      <td>49</td>\n",
       "    </tr>\n",
       "    <tr>\n",
       "      <th>4</th>\n",
       "      <td>ham</td>\n",
       "      <td>Nah I don't think he goes to usf, he lives aro...</td>\n",
       "      <td>61</td>\n",
       "    </tr>\n",
       "  </tbody>\n",
       "</table>\n",
       "</div>"
      ],
      "text/plain": [
       "  target                                               text  num_characters\n",
       "0    ham  Go until jurong point, crazy.. Available only ...             111\n",
       "1    ham                      Ok lar... Joking wif u oni...              29\n",
       "2   spam  Free entry in 2 a wkly comp to win FA Cup fina...             155\n",
       "3    ham  U dun say so early hor... U c already then say...              49\n",
       "4    ham  Nah I don't think he goes to usf, he lives aro...              61"
      ]
     },
     "execution_count": 21,
     "metadata": {},
     "output_type": "execute_result"
    }
   ],
   "source": [
    "df.head()"
   ]
  },
  {
   "cell_type": "code",
   "execution_count": 22,
   "id": "213b8404",
   "metadata": {
    "execution": {
     "iopub.execute_input": "2023-10-19T16:16:06.265153Z",
     "iopub.status.busy": "2023-10-19T16:16:06.264543Z",
     "iopub.status.idle": "2023-10-19T16:16:07.345933Z",
     "shell.execute_reply": "2023-10-19T16:16:07.344690Z"
    },
    "papermill": {
     "duration": 1.092199,
     "end_time": "2023-10-19T16:16:07.348615",
     "exception": false,
     "start_time": "2023-10-19T16:16:06.256416",
     "status": "completed"
    },
    "tags": []
   },
   "outputs": [
    {
     "data": {
      "text/plain": [
       "0       [Go, until, jurong, point, ,, crazy.., Availab...\n",
       "1                [Ok, lar, ..., Joking, wif, u, oni, ...]\n",
       "2       [Free, entry, in, 2, a, wkly, comp, to, win, F...\n",
       "3       [U, dun, say, so, early, hor, ..., U, c, alrea...\n",
       "4       [Nah, I, do, n't, think, he, goes, to, usf, ,,...\n",
       "                              ...                        \n",
       "5567    [This, is, the, 2nd, time, we, have, tried, 2,...\n",
       "5568     [Will, Ì_, b, going, to, esplanade, fr, home, ?]\n",
       "5569    [Pity, ,, *, was, in, mood, for, that, ., So, ...\n",
       "5570    [The, guy, did, some, bitching, but, I, acted,...\n",
       "5571                  [Rofl, ., Its, true, to, its, name]\n",
       "Name: text, Length: 5169, dtype: object"
      ]
     },
     "execution_count": 22,
     "metadata": {},
     "output_type": "execute_result"
    }
   ],
   "source": [
    "df['text'].apply(lambda x:nltk.word_tokenize(x))"
   ]
  },
  {
   "cell_type": "code",
   "execution_count": null,
   "id": "8934b209",
   "metadata": {
    "papermill": {
     "duration": 0.006386,
     "end_time": "2023-10-19T16:16:07.361946",
     "exception": false,
     "start_time": "2023-10-19T16:16:07.355560",
     "status": "completed"
    },
    "tags": []
   },
   "outputs": [],
   "source": []
  }
 ],
 "metadata": {
  "kernelspec": {
   "display_name": "Python 3",
   "language": "python",
   "name": "python3"
  },
  "language_info": {
   "codemirror_mode": {
    "name": "ipython",
    "version": 3
   },
   "file_extension": ".py",
   "mimetype": "text/x-python",
   "name": "python",
   "nbconvert_exporter": "python",
   "pygments_lexer": "ipython3",
   "version": "3.10.12"
  },
  "papermill": {
   "default_parameters": {},
   "duration": 9.957603,
   "end_time": "2023-10-19T16:16:08.090824",
   "environment_variables": {},
   "exception": null,
   "input_path": "__notebook__.ipynb",
   "output_path": "__notebook__.ipynb",
   "parameters": {},
   "start_time": "2023-10-19T16:15:58.133221",
   "version": "2.4.0"
  }
 },
 "nbformat": 4,
 "nbformat_minor": 5
}
